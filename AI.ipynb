{
  "cells": [
    {
      "cell_type": "markdown",
      "metadata": {
        "id": "smisOztzqB20"
      },
      "source": [
        "# Создание нейросети"
      ]
    },
    {
      "cell_type": "markdown",
      "source": [
        "##Импортируем библиотеки"
      ],
      "metadata": {
        "id": "jx7mPxRCassj"
      }
    },
    {
      "cell_type": "code",
      "execution_count": null,
      "metadata": {
        "id": "a57bX2ATp_dk"
      },
      "outputs": [],
      "source": [
        "import tensorflow.keras as keras\n",
        "import tensorflow as tf\n",
        "import matplotlib.pyplot as plt\n",
        "import numpy as np\n",
        "from tensorflow.keras.models import Sequential\n",
        "from tensorflow.keras.layers import Flatten\n",
        "from tensorflow.keras.layers import Dense\n",
        "from tensorflow.keras.models import load_model\n",
        "\n"
      ]
    },
    {
      "cell_type": "markdown",
      "source": [
        "##Устанавливаем датасет"
      ],
      "metadata": {
        "id": "9poZ-vuqa-wA"
      }
    },
    {
      "cell_type": "code",
      "execution_count": null,
      "metadata": {
        "colab": {
          "base_uri": "https://localhost:8080/"
        },
        "id": "q_fouPKbBXWV",
        "outputId": "ae847a37-597c-49b9-f06a-51d76b612976"
      },
      "outputs": [
        {
          "output_type": "stream",
          "name": "stdout",
          "text": [
            "Downloading data from https://storage.googleapis.com/tensorflow/tf-keras-datasets/mnist.npz\n",
            "11490434/11490434 [==============================] - 1s 0us/step\n"
          ]
        }
      ],
      "source": [
        "mnist = tf.keras.datasets.mnist\n",
        "(x_train, y_train),(x_test, y_test) = mnist.load_data()"
      ]
    },
    {
      "cell_type": "markdown",
      "metadata": {
        "id": "QlZxJVxqABEi"
      },
      "source": [
        "## Визуализируем одно из чисел"
      ]
    },
    {
      "cell_type": "code",
      "execution_count": null,
      "metadata": {
        "colab": {
          "base_uri": "https://localhost:8080/",
          "height": 430
        },
        "id": "gxWG4p-vGfcz",
        "outputId": "acea79bf-7bd0-40a1-b57d-625154b7d1ad"
      },
      "outputs": [
        {
          "output_type": "display_data",
          "data": {
            "text/plain": [
              "<Figure size 640x480 with 1 Axes>"
            ],
            "image/png": "[encoded data removed]"
          },
          "metadata": {}
        }
      ],
      "source": [
        "plt.imshow(x_train[2],cmap=plt.cm.binary)\n",
        "plt.show()"
      ]
    },
    {
      "cell_type": "markdown",
      "metadata": {
        "id": "mX9Py1TnAT66"
      },
      "source": [
        "## Рассмотрим, что нам дано в качестве целевой функции"
      ]
    },
    {
      "cell_type": "code",
      "execution_count": null,
      "metadata": {
        "colab": {
          "base_uri": "https://localhost:8080/"
        },
        "id": "NjkujzDXGnKY",
        "outputId": "4762e4a4-3d78-4970-cf26-60520d347ab9"
      },
      "outputs": [
        {
          "name": "stdout",
          "output_type": "stream",
          "text": [
            "4\n"
          ]
        }
      ],
      "source": [
        "print(y_train[2]) # число (класс объекта на картинке)"
      ]
    },
    {
      "cell_type": "markdown",
      "metadata": {
        "id": "Y01f-JiGBr9X"
      },
      "source": [
        "## Создаём модель как объект класса [Sequential](https://www.tensorflow.org/api_docs/python/tf/keras/Sequential)"
      ]
    },
    {
      "cell_type": "code",
      "execution_count": null,
      "metadata": {
        "id": "A6S8taXCAjLM"
      },
      "outputs": [],
      "source": [
        "model = Sequential()"
      ]
    },
    {
      "cell_type": "markdown",
      "metadata": {
        "id": "CYcUGp6kDMER"
      },
      "source": [
        "##Преобразуем двумерные данные изображения в одномерные (преобразуем матрицу пикселей 28х28 в вектор 1x784). Это можно сделать двумя способами: добавить в модель слой  [Flatten()](https://www.tensorflow.org/api_docs/python/tf/keras/layers/Flatten) либо функцией reshape() из библиотеки numpy."
      ]
    },
    {
      "cell_type": "code",
      "execution_count": null,
      "metadata": {
        "id": "TjqNKWujDIYU"
      },
      "outputs": [],
      "source": [
        "model.add(Flatten())\n",
        "\n",
        "image_data = np.random.rand(28, 28)\n",
        "reshaped_data = image_data.reshape(1, 784)"
      ]
    },
    {
      "cell_type": "markdown",
      "metadata": {
        "id": "YACGDGF5CQVc"
      },
      "source": [
        "##Добавляем два слоя  [Dense()](https://www.tensorflow.org/api_docs/python/tf/keras/layers/Dense), используя команду add(). Пусть в каждом слое будет 128 узлов, а функцией активации будет [relu](https://www.tensorflow.org/api_docs/python/tf/nn/relu)."
      ]
    },
    {
      "cell_type": "code",
      "execution_count": null,
      "metadata": {
        "id": "fTqayuoCCO9d"
      },
      "outputs": [],
      "source": [
        "model.add(Dense(128, activation='relu'))\n",
        "model.add(Dense(128, activation='relu'))"
      ]
    },
    {
      "cell_type": "markdown",
      "metadata": {
        "id": "xmIz-7ebFump"
      },
      "source": [
        "##Необходимо, чтобы модель выполняла роль классификатора. Для этого на выходе нейросети добавляют слой  [Dense()](https://www.tensorflow.org/api_docs/python/tf/keras/layers/Dense) с функцией активации  [softmax](https://www.tensorflow.org/api_docs/python/tf/nn/softmax). Добавим такой слой, поскольку мы классифицируем данные на 10 классов (цифры от 0 до 9), то количество узлов должно быть равно 10."
      ]
    },
    {
      "cell_type": "code",
      "execution_count": null,
      "metadata": {
        "id": "s5XnHrNmFro_"
      },
      "outputs": [],
      "source": [
        "model.add(Dense(10, activation='softmax'))\n"
      ]
    },
    {
      "cell_type": "markdown",
      "metadata": {
        "id": "freKl-oFG9Yd"
      },
      "source": [
        "## \"Скомпелируем\" модель. Для этого используем метод  [compile()](https://keras.io/api/models/model_training_apis/). В качестве аргументов передадим: оптимизатор 'adam', функцию потерь 'sparse_categorical_crossentropy' и метрику эффективности 'accuracy'."
      ]
    },
    {
      "cell_type": "code",
      "execution_count": null,
      "metadata": {
        "id": "Y0NRGT6fFmbe"
      },
      "outputs": [],
      "source": [
        "model.compile(optimizer='adam', loss='sparse_categorical_crossentropy', metrics=['accuracy'])\n"
      ]
    },
    {
      "cell_type": "markdown",
      "metadata": {
        "id": "CBW3H72vH_kQ"
      },
      "source": [
        "##Обучим модель на данных x_train, y_train с помощью метода fit(). Зададим 10 эпох обучения."
      ]
    },
    {
      "cell_type": "code",
      "execution_count": null,
      "metadata": {
        "colab": {
          "base_uri": "https://localhost:8080/"
        },
        "id": "ecXHoSBvH6zD",
        "outputId": "a06e50d1-0f76-43e6-ecc2-ba645912eb1f"
      },
      "outputs": [
        {
          "output_type": "stream",
          "name": "stdout",
          "text": [
            "Epoch 1/10\n",
            "1875/1875 [==============================] - 15s 7ms/step - loss: 1.4863 - accuracy: 0.8647\n",
            "Epoch 2/10\n",
            "1875/1875 [==============================] - 16s 8ms/step - loss: 0.3872 - accuracy: 0.9166\n",
            "Epoch 3/10\n",
            "1875/1875 [==============================] - 20s 11ms/step - loss: 0.2840 - accuracy: 0.9341\n",
            "Epoch 4/10\n",
            "1875/1875 [==============================] - 21s 11ms/step - loss: 0.2024 - accuracy: 0.9484\n",
            "Epoch 5/10\n",
            "1875/1875 [==============================] - 12s 6ms/step - loss: 0.1579 - accuracy: 0.9572\n",
            "Epoch 6/10\n",
            "1875/1875 [==============================] - 12s 7ms/step - loss: 0.1318 - accuracy: 0.9633\n",
            "Epoch 7/10\n",
            "1875/1875 [==============================] - 12s 6ms/step - loss: 0.1221 - accuracy: 0.9659\n",
            "Epoch 8/10\n",
            "1875/1875 [==============================] - 18s 10ms/step - loss: 0.1103 - accuracy: 0.9690\n",
            "Epoch 9/10\n",
            "1875/1875 [==============================] - 17s 9ms/step - loss: 0.1112 - accuracy: 0.9699\n",
            "Epoch 10/10\n",
            "1875/1875 [==============================] - 11s 6ms/step - loss: 0.0981 - accuracy: 0.9725\n"
          ]
        },
        {
          "output_type": "execute_result",
          "data": {
            "text/plain": [
              "<keras.src.callbacks.History at 0x7aa6cf6fa290>"
            ]
          },
          "metadata": {},
          "execution_count": 12
        }
      ],
      "source": [
        "model.fit(x_train, y_train, epochs=10)\n"
      ]
    },
    {
      "cell_type": "markdown",
      "metadata": {
        "id": "vkK42bDYI3qA"
      },
      "source": [
        "## Определим точность и величину потерь с помощью метода evaluate(). Сделаем это на проверочных данных x_test, y_test."
      ]
    },
    {
      "cell_type": "code",
      "execution_count": null,
      "metadata": {
        "colab": {
          "base_uri": "https://localhost:8080/"
        },
        "id": "pi7ggPc9IkD8",
        "outputId": "2dbc59b0-a97e-492b-a53b-b2f940073885"
      },
      "outputs": [
        {
          "output_type": "stream",
          "name": "stdout",
          "text": [
            "313/313 [==============================] - 1s 2ms/step - loss: 0.1912 - accuracy: 0.9609\n"
          ]
        }
      ],
      "source": [
        "loss, accuracy = model.evaluate(x_test, y_test)\n"
      ]
    },
    {
      "cell_type": "markdown",
      "metadata": {
        "id": "JVRI1gOTJnf_"
      },
      "source": [
        "## Сохраним модель методом save()"
      ]
    },
    {
      "cell_type": "code",
      "execution_count": null,
      "metadata": {
        "id": "-Vpjy0ZPIyq2"
      },
      "outputs": [],
      "source": [
        "model.save('my_model')\n"
      ]
    },
    {
      "cell_type": "markdown",
      "metadata": {
        "id": "WS2D4zTsKphB"
      },
      "source": [
        "## [Загрузим модель обратно](https://www.tensorflow.org/api_docs/python/tf/keras/models/load_model)."
      ]
    },
    {
      "cell_type": "code",
      "execution_count": null,
      "metadata": {
        "id": "trsX4tZFKdG0"
      },
      "outputs": [],
      "source": [
        "loaded_model = load_model('my_model')\n"
      ]
    },
    {
      "cell_type": "markdown",
      "metadata": {
        "id": "J8dXV8TzLCdK"
      },
      "source": [
        "##Сделаем предсказание методом predict() на проверочной выборке x_test."
      ]
    },
    {
      "cell_type": "code",
      "execution_count": null,
      "metadata": {
        "id": "9XfM3QQBK_hX",
        "colab": {
          "base_uri": "https://localhost:8080/"
        },
        "outputId": "aa2f8a9e-322c-4538-8266-812912376c56"
      },
      "outputs": [
        {
          "output_type": "stream",
          "name": "stdout",
          "text": [
            "313/313 [==============================] - 2s 5ms/step\n"
          ]
        }
      ],
      "source": [
        "predictions = loaded_model.predict(x_test)\n"
      ]
    },
    {
      "cell_type": "markdown",
      "metadata": {
        "id": "ehdEthPULwEP"
      },
      "source": [
        "##Выведем первое предсказание на экран."
      ]
    },
    {
      "cell_type": "code",
      "execution_count": null,
      "metadata": {
        "id": "6tCiaNdoLPlr",
        "colab": {
          "base_uri": "https://localhost:8080/"
        },
        "outputId": "74c74022-df66-4560-c339-a83ccecfb383"
      },
      "outputs": [
        {
          "output_type": "stream",
          "name": "stdout",
          "text": [
            "[3.2097225e-15 2.9628682e-06 2.0738615e-07 2.2931839e-05 1.0899181e-15\n",
            " 3.0153506e-09 2.3040554e-25 9.9997050e-01 1.2067898e-09 3.2793268e-06]\n"
          ]
        }
      ],
      "source": [
        "print(predictions[0])"
      ]
    },
    {
      "cell_type": "code",
      "execution_count": null,
      "metadata": {
        "id": "uNVrLRBCLacU"
      },
      "outputs": [],
      "source": []
    }
  ],
  "metadata": {
    "colab": {
      "provenance": [],
      "collapsed_sections": [
        "smisOztzqB20",
        "lk69PU4hUOAm"
      ]
    },
    "kernelspec": {
      "display_name": "Python 3",
      "name": "python3"
    },
    "language_info": {
      "name": "python"
    }
  },
  "nbformat": 4,
  "nbformat_minor": 0
}